{
 "cells": [
  {
   "cell_type": "markdown",
   "metadata": {},
   "source": [
    "# <center><span lang=EN-US style='color:red'>Python introduction</span></center> \n",
    "## <center><span lang=EN-US style='color:red'>Basics</span></center>\n",
    "### <center>Jupyter Notebook for an introduction to Python programming</center>\n",
    "\n",
    "##### <center><a href=\"http://www.oacn.inaf.it/~brescia/\">Massimo Brescia</a></center>"
   ]
  },
  {
   "cell_type": "markdown",
   "metadata": {},
   "source": [
    "This is a series of simple commands to learn basics of Python, complementary to the slides provided with this notebook.\n",
    "\n",
    "The user can execute each cell below to see what each instruction set does."
   ]
  },
  {
   "cell_type": "markdown",
   "metadata": {},
   "source": [
    "simple operations on variables"
   ]
  },
  {
   "cell_type": "code",
   "execution_count": 2,
   "metadata": {},
   "outputs": [
    {
     "name": "stdout",
     "output_type": "stream",
     "text": [
      "5\n",
      "Variable =  5\n"
     ]
    }
   ],
   "source": [
    "Variable=2\n",
    "Variable+=3\n",
    "print(Variable)\n",
    "print(\"Variable = \", Variable)"
   ]
  },
  {
   "cell_type": "code",
   "execution_count": 3,
   "metadata": {},
   "outputs": [
    {
     "name": "stdout",
     "output_type": "stream",
     "text": [
      "1\n"
     ]
    }
   ],
   "source": [
    "Variable=2\n",
    "Variable-=1\n",
    "print(Variable)"
   ]
  },
  {
   "cell_type": "code",
   "execution_count": 4,
   "metadata": {},
   "outputs": [
    {
     "name": "stdout",
     "output_type": "stream",
     "text": [
      "3\n"
     ]
    }
   ],
   "source": [
    "Variable=2\n",
    "Variable=Variable+1\n",
    "print(Variable)"
   ]
  },
  {
   "cell_type": "code",
   "execution_count": 5,
   "metadata": {},
   "outputs": [
    {
     "name": "stdout",
     "output_type": "stream",
     "text": [
      "ciao everybody\n"
     ]
    }
   ],
   "source": [
    "String='ciao'\n",
    "String+=' everybody'\n",
    "print(String)"
   ]
  },
  {
   "cell_type": "markdown",
   "metadata": {},
   "source": [
    "how to create a simple list and a list of lists"
   ]
  },
  {
   "cell_type": "code",
   "execution_count": 6,
   "metadata": {},
   "outputs": [
    {
     "name": "stdout",
     "output_type": "stream",
     "text": [
      "List item 1\n",
      "['another', 'list']\n"
     ]
    }
   ],
   "source": [
    "mylist = [\"List item 1\", 2, 3.14]\n",
    "print(mylist[0])\n",
    "\n",
    "sample = [1, [\"another\", \"list\"], (\"a\", \"tuple\")]\n",
    "print(sample[1])"
   ]
  },
  {
   "cell_type": "code",
   "execution_count": 7,
   "metadata": {},
   "outputs": [
    {
     "name": "stdout",
     "output_type": "stream",
     "text": [
      "['List item 1 again', 2, 3.14]\n"
     ]
    }
   ],
   "source": [
    "mylist[0] = \"List item 1 again\" # We're replacing the first item.\n",
    "print(mylist)"
   ]
  },
  {
   "cell_type": "code",
   "execution_count": 8,
   "metadata": {},
   "outputs": [
    {
     "name": "stdout",
     "output_type": "stream",
     "text": [
      "['List item 1 again', 2, 3.21]\n"
     ]
    }
   ],
   "source": [
    "mylist[-1] = 3.21 # Here, we refer to the last item.\n",
    "print(mylist)"
   ]
  },
  {
   "cell_type": "markdown",
   "metadata": {},
   "source": [
    "here we see how to access at a dictionary list element by name instead of by index"
   ]
  },
  {
   "cell_type": "code",
   "execution_count": 9,
   "metadata": {},
   "outputs": [
    {
     "name": "stdout",
     "output_type": "stream",
     "text": [
      "3.14\n"
     ]
    }
   ],
   "source": [
    "mydict = {\"Key 1\": \"Value 1\", 2: 3, \"pi\": 3.14}\n",
    "print(mydict['pi'])"
   ]
  },
  {
   "cell_type": "code",
   "execution_count": 10,
   "metadata": {},
   "outputs": [
    {
     "name": "stdout",
     "output_type": "stream",
     "text": [
      "{'Key 1': 'Value 1', 2: 3, 'pi': 3.15}\n"
     ]
    }
   ],
   "source": [
    "mydict[\"pi\"] = 3.15 # This is how you change dictionary values.\n",
    "print(mydict)"
   ]
  },
  {
   "cell_type": "markdown",
   "metadata": {},
   "source": [
    "here we show how to print the entire list using the [:] symbol"
   ]
  },
  {
   "cell_type": "code",
   "execution_count": 11,
   "metadata": {},
   "outputs": [
    {
     "name": "stdout",
     "output_type": "stream",
     "text": [
      "['List item 1', 2, 3.14]\n"
     ]
    }
   ],
   "source": [
    "mylist = [\"List item 1\", 2, 3.14]\n",
    "print(mylist[:])"
   ]
  },
  {
   "cell_type": "markdown",
   "metadata": {},
   "source": [
    "In Python, like C, any array or list starts from index 0, not 1, up to N-1. So far, the first element is at location 0.\n",
    "Therefore, to print the first two elements you should use the range from 0 to 2, i.e. locations 0 and 1"
   ]
  },
  {
   "cell_type": "code",
   "execution_count": 18,
   "metadata": {},
   "outputs": [
    {
     "name": "stdout",
     "output_type": "stream",
     "text": [
      "['List item 1', 2]\n"
     ]
    }
   ],
   "source": [
    "print(mylist[0:2])"
   ]
  },
  {
   "cell_type": "code",
   "execution_count": 19,
   "metadata": {},
   "outputs": [
    {
     "name": "stdout",
     "output_type": "stream",
     "text": [
      "['List item 1', 2]\n"
     ]
    }
   ],
   "source": [
    "print(mylist[-3:-1])"
   ]
  },
  {
   "cell_type": "markdown",
   "metadata": {},
   "source": [
    "if the symbol [:] has an index at left side, the list is considered from that index. [1:] means to print the list from location 1, excluding first element"
   ]
  },
  {
   "cell_type": "code",
   "execution_count": 21,
   "metadata": {},
   "outputs": [
    {
     "name": "stdout",
     "output_type": "stream",
     "text": [
      "[2, 3.14]\n"
     ]
    }
   ],
   "source": [
    "print(mylist[1:])"
   ]
  },
  {
   "cell_type": "markdown",
   "metadata": {},
   "source": [
    "how to print composed strings with internal arguments (same as C language)"
   ]
  },
  {
   "cell_type": "code",
   "execution_count": 24,
   "metadata": {},
   "outputs": [
    {
     "name": "stdout",
     "output_type": "stream",
     "text": [
      "Name: ciccio\n",
      " Number: 3\n",
      "String: ---\n"
     ]
    }
   ],
   "source": [
    "print(\"Name: %s\\n Number: %s\\nString: %s\" % ('ciccio', 3, 3 * \"-\"))"
   ]
  },
  {
   "cell_type": "code",
   "execution_count": 25,
   "metadata": {},
   "outputs": [
    {
     "name": "stdout",
     "output_type": "stream",
     "text": [
      "This is\n",
      "a multiline\n",
      "string.\n"
     ]
    }
   ],
   "source": [
    "strString = \"\"\"This is\n",
    "a multiline\n",
    "string.\"\"\"\n",
    "print(strString)"
   ]
  },
  {
   "cell_type": "code",
   "execution_count": 26,
   "metadata": {},
   "outputs": [
    {
     "name": "stdout",
     "output_type": "stream",
     "text": [
      "This is a test.\n"
     ]
    }
   ],
   "source": [
    "print(\"This %(verb)s a %(noun)s.\" % {\"noun\": \"test\", \"verb\": \"is\"})"
   ]
  },
  {
   "cell_type": "markdown",
   "metadata": {},
   "source": [
    "more on list manipulation"
   ]
  },
  {
   "cell_type": "code",
   "execution_count": 28,
   "metadata": {},
   "outputs": [
    {
     "name": "stdout",
     "output_type": "stream",
     "text": [
      "range(0, 10)\n"
     ]
    }
   ],
   "source": [
    "rangelist = range(10)\n",
    "print(rangelist)"
   ]
  },
  {
   "cell_type": "markdown",
   "metadata": {},
   "source": [
    "for loop and if-else conditional statement examples"
   ]
  },
  {
   "cell_type": "code",
   "execution_count": 31,
   "metadata": {},
   "outputs": [
    {
     "name": "stdout",
     "output_type": "stream",
     "text": [
      "it's fine\n",
      "it's fine\n",
      "it's fine\n",
      "ehi\n",
      "ehi\n",
      "it's fine\n",
      "it's fine\n",
      "ehi\n",
      "it's fine\n",
      "ehi\n",
      "I am in the general else!\n"
     ]
    }
   ],
   "source": [
    "for number in rangelist:\n",
    "    # Check if number is one of\n",
    "    # the numbers in the tuple.\n",
    "    if number in (3, 4, 7, 9):\n",
    "        # \"Break\" terminates a for without\n",
    "        # executing the \"else\" clause.\n",
    "        print(\"ehi\")\n",
    "        #break\n",
    "    else:\n",
    "        # \"Continue\" starts the next iteration\n",
    "        # of the loop. It's rather useless here,\n",
    "        # as it's the last statement of the loop.\n",
    "        print(\"it's fine\")\n",
    "        continue\n",
    "else:\n",
    "    # The \"else\" clause is optional and is\n",
    "    # executed only if the loop didn't \"break\".\n",
    "    print(\"I am in the general else!\")\n",
    "    pass # Do nothing"
   ]
  },
  {
   "cell_type": "code",
   "execution_count": 32,
   "metadata": {},
   "outputs": [
    {
     "name": "stdout",
     "output_type": "stream",
     "text": [
      "it's ok\n",
      "it's ok\n",
      "it's ok\n",
      "ehi\n",
      "ehi\n",
      "it's ok\n",
      "it's ok\n",
      "ehi\n",
      "it's ok\n",
      "ehi\n",
      "I am in the general else!\n"
     ]
    }
   ],
   "source": [
    "for number in rangelist:\n",
    "    # Check if number is one of\n",
    "    # the numbers in the tuple.\n",
    "    if number in (3, 4, 7, 9):\n",
    "        # \"Break\" terminates a for without\n",
    "        # executing the \"else\" clause.\n",
    "        print(\"ehi\")\n",
    "        #break\n",
    "    else:\n",
    "        # \"Continue\" starts the next iteration\n",
    "        # of the loop. It's rather useless here,\n",
    "        # as it's the last statement of the loop.\n",
    "        print(\"it's ok\")\n",
    "        continue\n",
    "else:\n",
    "    # The \"else\" clause is optional and is\n",
    "    # executed only if the loop didn't \"break\".\n",
    "    print(\"I am in the general else!\")\n",
    "    pass # Do nothing"
   ]
  },
  {
   "cell_type": "code",
   "execution_count": 33,
   "metadata": {
    "scrolled": true
   },
   "outputs": [
    {
     "name": "stdout",
     "output_type": "stream",
     "text": [
      "0\n",
      "not\n",
      "1\n",
      "not\n",
      "2\n",
      "The item is 2\n",
      "3\n",
      "The  item  is 3\n",
      "4\n",
      "not\n",
      "5\n",
      "not\n",
      "6\n",
      "not\n",
      "7\n",
      "not\n",
      "8\n",
      "not\n",
      "9\n",
      "not\n"
     ]
    }
   ],
   "source": [
    "for number in rangelist:\n",
    "    print(number)\n",
    "    if number == 2:\n",
    "        print(\"The item is 2\")\n",
    "    elif number == 3:\n",
    "        print(\"The  item  is 3\")\n",
    "    else:\n",
    "        print(\"not\")"
   ]
  },
  {
   "cell_type": "markdown",
   "metadata": {},
   "source": [
    "while loop example"
   ]
  },
  {
   "cell_type": "code",
   "execution_count": 34,
   "metadata": {
    "scrolled": true
   },
   "outputs": [
    {
     "name": "stdout",
     "output_type": "stream",
     "text": [
      "0\n",
      "3\n",
      "6\n",
      "9\n"
     ]
    }
   ],
   "source": [
    "index = 0\n",
    "while index < len(rangelist):\n",
    "    print(rangelist[index])\n",
    "    index+=3"
   ]
  },
  {
   "cell_type": "markdown",
   "metadata": {},
   "source": [
    "how to define and use a function (sub-routine)"
   ]
  },
  {
   "cell_type": "code",
   "execution_count": 36,
   "metadata": {},
   "outputs": [
    {
     "name": "stdout",
     "output_type": "stream",
     "text": [
      "2\n"
     ]
    }
   ],
   "source": [
    "# body of function. Note the indentantion of instructions within the function\n",
    "def funcvar(x):\n",
    "    result=x+1\n",
    "    return result\n",
    "\n",
    "# call the defined function\n",
    "b=funcvar(1)\n",
    "print(b)"
   ]
  },
  {
   "cell_type": "markdown",
   "metadata": {},
   "source": [
    "example of how to catch an error"
   ]
  },
  {
   "cell_type": "code",
   "execution_count": 37,
   "metadata": {},
   "outputs": [
    {
     "name": "stdout",
     "output_type": "stream",
     "text": [
      "it's ok!\n",
      "We're done with that.\n"
     ]
    }
   ],
   "source": [
    "def some_function(x):\n",
    "    try:\n",
    "        # Division by zero raises an exception\n",
    "        10 / x\n",
    "    except ZeroDivisionError:\n",
    "        print(\"Oops, invalid.\")\n",
    "    else:\n",
    "        # Exception didn't occur, we're good.\n",
    "        print(\"it's ok!\")\n",
    "    finally:\n",
    "        # This is executed after the code block is run\n",
    "        # and all exceptions have been handled, even\n",
    "        # if a new exception is raised while handling.\n",
    "        print(\"We're done with that.\")\n",
    "\n",
    "some_function(1)\n",
    "\n"
   ]
  },
  {
   "cell_type": "code",
   "execution_count": 38,
   "metadata": {
    "scrolled": true
   },
   "outputs": [
    {
     "name": "stdout",
     "output_type": "stream",
     "text": [
      "Oops, invalid.\n",
      "We're done with that.\n"
     ]
    }
   ],
   "source": [
    "some_function(0)"
   ]
  },
  {
   "cell_type": "markdown",
   "metadata": {},
   "source": [
    "how to randomize numbers"
   ]
  },
  {
   "cell_type": "code",
   "execution_count": 39,
   "metadata": {},
   "outputs": [
    {
     "name": "stdout",
     "output_type": "stream",
     "text": [
      "91\n"
     ]
    }
   ],
   "source": [
    "import random\n",
    "from time import clock\n",
    "\n",
    "randomint = random.randint(1, 100)\n",
    "print(randomint)"
   ]
  },
  {
   "cell_type": "code",
   "execution_count": 40,
   "metadata": {},
   "outputs": [
    {
     "name": "stdout",
     "output_type": "stream",
     "text": [
      "93\n"
     ]
    }
   ],
   "source": [
    "randomint = random.randint(1, 100)\n",
    "print(randomint)"
   ]
  },
  {
   "cell_type": "markdown",
   "metadata": {},
   "source": [
    "logical conditions true/false"
   ]
  },
  {
   "cell_type": "code",
   "execution_count": 42,
   "metadata": {},
   "outputs": [
    {
     "name": "stdout",
     "output_type": "stream",
     "text": [
      "True\n",
      "False\n"
     ]
    }
   ],
   "source": [
    "a=4\n",
    "print(2<a<5)\n",
    "print(5<a<6)"
   ]
  },
  {
   "cell_type": "markdown",
   "metadata": {},
   "source": [
    "instructions to execute OS statements within python code"
   ]
  },
  {
   "cell_type": "code",
   "execution_count": 43,
   "metadata": {
    "scrolled": true
   },
   "outputs": [
    {
     "data": {
      "text/plain": [
       "['.ipynb_checkpoints',\n",
       " '1-IntroPython.ipynb',\n",
       " 'a.csv',\n",
       " 'fer2013.csv',\n",
       " 'm101.fits',\n",
       " 'Rudimenti2.ipynb',\n",
       " 'test']"
      ]
     },
     "execution_count": 43,
     "metadata": {},
     "output_type": "execute_result"
    }
   ],
   "source": [
    "import os\n",
    "os.listdir('.')"
   ]
  },
  {
   "cell_type": "markdown",
   "metadata": {},
   "source": [
    "handling files"
   ]
  },
  {
   "cell_type": "code",
   "execution_count": 44,
   "metadata": {},
   "outputs": [
    {
     "data": {
      "text/plain": [
       "['.ipynb_checkpoints',\n",
       " '1-IntroPython.ipynb',\n",
       " 'a.csv',\n",
       " 'fer2013.csv',\n",
       " 'm101.fits',\n",
       " 'Rudimenti2.ipynb',\n",
       " 'test',\n",
       " 'zzzz.txt']"
      ]
     },
     "execution_count": 44,
     "metadata": {},
     "output_type": "execute_result"
    }
   ],
   "source": [
    "filesome=open('zzzz.txt',\"w\")\n",
    "os.listdir('.')"
   ]
  },
  {
   "cell_type": "code",
   "execution_count": 45,
   "metadata": {},
   "outputs": [],
   "source": [
    "filesome.write(\"dum de dum\\n\\n\\nend of file\")\n",
    "filesome.close()"
   ]
  },
  {
   "cell_type": "code",
   "execution_count": 46,
   "metadata": {},
   "outputs": [
    {
     "name": "stdout",
     "output_type": "stream",
     "text": [
      "['dum de dum\\n', '\\n', '\\n', 'end of file']\n"
     ]
    }
   ],
   "source": [
    "filesome=open('zzzz.txt',\"r\")\n",
    "lines = filesome.readlines()\n",
    "filesome.close()\n",
    "print(lines)\n"
   ]
  },
  {
   "cell_type": "code",
   "execution_count": 47,
   "metadata": {},
   "outputs": [
    {
     "name": "stdout",
     "output_type": "stream",
     "text": [
      "dum de dum\n",
      "\n",
      "\n",
      "\n",
      "\n",
      "\n",
      "end of file\n"
     ]
    }
   ],
   "source": [
    "for line in lines:\n",
    "    print(line)"
   ]
  },
  {
   "cell_type": "code",
   "execution_count": 48,
   "metadata": {},
   "outputs": [
    {
     "data": {
      "text/plain": [
       "['.ipynb_checkpoints',\n",
       " '1-IntroPython.ipynb',\n",
       " 'a.csv',\n",
       " 'fer2013.csv',\n",
       " 'm101.fits',\n",
       " 'Rudimenti2.ipynb',\n",
       " 'test']"
      ]
     },
     "execution_count": 48,
     "metadata": {},
     "output_type": "execute_result"
    }
   ],
   "source": [
    "os.remove('zzzz.txt')\n",
    "os.listdir('.')"
   ]
  },
  {
   "cell_type": "markdown",
   "metadata": {},
   "source": [
    "### another example using functions"
   ]
  },
  {
   "cell_type": "code",
   "execution_count": 1,
   "metadata": {},
   "outputs": [],
   "source": [
    "varname=\"var2\"\n",
    "contains=open(\"a.csv\",\"r\")\n",
    "lines=contains.readlines()"
   ]
  },
  {
   "cell_type": "code",
   "execution_count": 2,
   "metadata": {},
   "outputs": [],
   "source": [
    "def minimum(lista):\n",
    "    minVal=lista[0]\n",
    "    size=len(lista)\n",
    "    for i in range(1,size):\n",
    "        if lista[i]<minVal:\n",
    "            minVal=lista[i]\n",
    "    return minVal"
   ]
  },
  {
   "cell_type": "code",
   "execution_count": 3,
   "metadata": {},
   "outputs": [],
   "source": [
    "def maximum(lista):\n",
    "    maxVal=lista[0]\n",
    "    for i in lista:\n",
    "        if i >maxVal:\n",
    "            maxVal=i\n",
    "    return maxVal"
   ]
  },
  {
   "cell_type": "code",
   "execution_count": 4,
   "metadata": {},
   "outputs": [
    {
     "name": "stdout",
     "output_type": "stream",
     "text": [
      "18\n",
      "-1\n",
      "['#id', 'var1', 'var2', 'var3']\n"
     ]
    }
   ],
   "source": [
    "print(maximum([1,18,-1,4,3,4,5]))\n",
    "print(minimum([1,18,-1,4,3,4,5]))\n",
    "\n",
    "dictionary={}\n",
    "hdr=lines[0].replace(\"\\n\",\"\")\n",
    "\n",
    "hdr=hdr.split(\",\")\n",
    "print(hdr)"
   ]
  },
  {
   "cell_type": "code",
   "execution_count": 5,
   "metadata": {
    "scrolled": true
   },
   "outputs": [
    {
     "name": "stdout",
     "output_type": "stream",
     "text": [
      "#id\n",
      "var1\n",
      "var2\n",
      "var3\n",
      "['#id', 'var1', 'var2', 'var3']\n",
      "7\n"
     ]
    }
   ],
   "source": [
    "index=0\n",
    "listoflist=[]\n",
    "\n",
    "for bit in hdr:\n",
    "    print(bit)\n",
    "    if bit==varname:\n",
    "        varCol=index\n",
    "    index+=1\n",
    "    listoflist.append(bit)\n",
    "\n",
    "\n",
    "print(listoflist)\n",
    "lineindex=1\n",
    "x=0\n",
    "print(len(lines)) "
   ]
  },
  {
   "cell_type": "markdown",
   "metadata": {},
   "source": [
    "using pandas library to load a csv file and to print first rows, including column header"
   ]
  },
  {
   "cell_type": "code",
   "execution_count": 6,
   "metadata": {},
   "outputs": [
    {
     "data": {
      "text/html": [
       "<div>\n",
       "<style scoped>\n",
       "    .dataframe tbody tr th:only-of-type {\n",
       "        vertical-align: middle;\n",
       "    }\n",
       "\n",
       "    .dataframe tbody tr th {\n",
       "        vertical-align: top;\n",
       "    }\n",
       "\n",
       "    .dataframe thead th {\n",
       "        text-align: right;\n",
       "    }\n",
       "</style>\n",
       "<table border=\"1\" class=\"dataframe\">\n",
       "  <thead>\n",
       "    <tr style=\"text-align: right;\">\n",
       "      <th></th>\n",
       "      <th>#id</th>\n",
       "      <th>var1</th>\n",
       "      <th>var2</th>\n",
       "      <th>var3</th>\n",
       "    </tr>\n",
       "  </thead>\n",
       "  <tbody>\n",
       "    <tr>\n",
       "      <th>0</th>\n",
       "      <td>ciccio</td>\n",
       "      <td>1</td>\n",
       "      <td>2</td>\n",
       "      <td>3.0</td>\n",
       "    </tr>\n",
       "    <tr>\n",
       "      <th>1</th>\n",
       "      <td>paolo</td>\n",
       "      <td>4</td>\n",
       "      <td>5</td>\n",
       "      <td>6.0</td>\n",
       "    </tr>\n",
       "    <tr>\n",
       "      <th>2</th>\n",
       "      <td>gabriele</td>\n",
       "      <td>7</td>\n",
       "      <td>8</td>\n",
       "      <td>9.5</td>\n",
       "    </tr>\n",
       "    <tr>\n",
       "      <th>3</th>\n",
       "      <td>alex</td>\n",
       "      <td>10</td>\n",
       "      <td>11a</td>\n",
       "      <td>12.0</td>\n",
       "    </tr>\n",
       "    <tr>\n",
       "      <th>4</th>\n",
       "      <td>etc</td>\n",
       "      <td>13</td>\n",
       "      <td>14</td>\n",
       "      <td>15.0</td>\n",
       "    </tr>\n",
       "  </tbody>\n",
       "</table>\n",
       "</div>"
      ],
      "text/plain": [
       "        #id  var1 var2  var3\n",
       "0    ciccio     1    2   3.0\n",
       "1     paolo     4    5   6.0\n",
       "2  gabriele     7    8   9.5\n",
       "3      alex    10  11a  12.0\n",
       "4       etc    13   14  15.0"
      ]
     },
     "execution_count": 6,
     "metadata": {},
     "output_type": "execute_result"
    }
   ],
   "source": [
    "import pandas as pd \n",
    "data = pd.read_csv(\"a.csv\")\n",
    "data.head()"
   ]
  },
  {
   "cell_type": "code",
   "execution_count": null,
   "metadata": {},
   "outputs": [],
   "source": []
  }
 ],
 "metadata": {
  "kernelspec": {
   "display_name": "Python 3",
   "language": "python",
   "name": "python3"
  },
  "language_info": {
   "codemirror_mode": {
    "name": "ipython",
    "version": 3
   },
   "file_extension": ".py",
   "mimetype": "text/x-python",
   "name": "python",
   "nbconvert_exporter": "python",
   "pygments_lexer": "ipython3",
   "version": "3.7.6"
  }
 },
 "nbformat": 4,
 "nbformat_minor": 4
}
