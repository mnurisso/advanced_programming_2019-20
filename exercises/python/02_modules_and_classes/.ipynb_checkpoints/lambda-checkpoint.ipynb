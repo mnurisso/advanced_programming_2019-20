{
 "cells": [
  {
   "cell_type": "markdown",
   "metadata": {},
   "source": [
    "## Lambda\n",
    "\n",
    "- Given a list of words (`str`), construct a new **ordered** list from the former where words are sorted by their reversed spelling using  a `lambda` function.\n",
    "\n",
    "*Hint*: use `sorted` and its keyword argument `key`"
   ]
  },
  {
   "cell_type": "code",
   "execution_count": 8,
   "metadata": {},
   "outputs": [],
   "source": [
    "import copy #for deepcopy\n",
    "\n",
    "def lambda_ex (list_var):\n",
    "    '''\n",
    "    Given a list of words, construct a new ordered list from the former \n",
    "    where words are sorted by their reversed spelling.\n",
    "    '''\n",
    "    #define the new list\n",
    "    #list_rev = copy.deepcopy(list_var)\n",
    "    list_rev = []\n",
    "    \n",
    "    #reverse the list with lambda function\n",
    "    for x in list_var:\n",
    "        reverse = lambda x=x: x[::-1]\n",
    "        list_rev.append(reverse(x))\n",
    "\n",
    "    #sort the new list\n",
    "    list_rev.sort()\n",
    "    \n",
    "    return list_rev"
   ]
  },
  {
   "cell_type": "code",
   "execution_count": 9,
   "metadata": {},
   "outputs": [
    {
     "name": "stdout",
     "output_type": "stream",
     "text": [
      "reversed list: ['edoc', 'ees', 'eht', 'fi', 'ot', 'skrow', 'tsrif', 'yrt']\n",
      "original list: ['first', 'try', 'to', 'see', 'if', 'the', 'code', 'works']\n"
     ]
    }
   ],
   "source": [
    "a = ['first','try','to','see','if','the','code','works']\n",
    "\n",
    "print('reversed list:',lambda_ex(a))\n",
    "print('original list:', a)"
   ]
  },
  {
   "cell_type": "code",
   "execution_count": 10,
   "metadata": {},
   "outputs": [
    {
     "name": "stdout",
     "output_type": "stream",
     "text": [
      "Help on function lambda_ex in module __main__:\n",
      "\n",
      "lambda_ex(list_var)\n",
      "    Given a list of words, construct a new ordered list from the former \n",
      "    where words are sorted by their reversed spelling.\n",
      "\n"
     ]
    }
   ],
   "source": [
    "help(lambda_ex)"
   ]
  }
 ],
 "metadata": {
  "kernelspec": {
   "display_name": "Python 3",
   "language": "python",
   "name": "python3"
  },
  "language_info": {
   "codemirror_mode": {
    "name": "ipython",
    "version": 3
   },
   "file_extension": ".py",
   "mimetype": "text/x-python",
   "name": "python",
   "nbconvert_exporter": "python",
   "pygments_lexer": "ipython3",
   "version": "3.7.1"
  }
 },
 "nbformat": 4,
 "nbformat_minor": 2
}
