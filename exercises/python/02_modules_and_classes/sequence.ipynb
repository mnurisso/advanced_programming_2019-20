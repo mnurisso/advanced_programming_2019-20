{
 "cells": [
  {
   "cell_type": "markdown",
   "metadata": {},
   "source": [
    "## Sequence\n",
    "\n",
    "- Write a class `Sequence`.\n",
    "  - Constructor takes an iterable. Internally, use a `list`\n",
    "  - Find the way to support the following syntax\n",
    "    1. `s = Sequence(range(10))`\n",
    "    2. `print(s)` prints all the elements (hint: `__str__`)\n",
    "    3. `len(s)` (hint: `__len__`)\n",
    "    4. `s == other_s` (hint: `__eq__`, `all`)\n",
    "    5. `print(s[-1])` (hint: `__getitem__`)\n",
    "    6. `s[0] = 1` (hint: `__setitem__`)\n",
    "    7. `del s[1:4:2]` (hint: `__delitem__`)\n",
    "    8. `for x in s` (hints: `__iter__`, `iter`)\n",
    "    9. `s.insert(position, value)`\n",
    "    10. `s.append(value)`\n",
    "    11. `s2 = copy.copy(s1)` is a **deepcopy** (hint: `__copy__`)"
   ]
  },
  {
   "cell_type": "code",
   "execution_count": 7,
   "metadata": {},
   "outputs": [],
   "source": [
    "import copy"
   ]
  },
  {
   "cell_type": "code",
   "execution_count": 8,
   "metadata": {},
   "outputs": [],
   "source": [
    "class Sequence():\n",
    "    def __init__(self, x):\n",
    "        '''constructor taking an iterative object'''\n",
    "        self.x = list(x) #conversion to a list\n",
    "    \n",
    "    def __iter__(self):\n",
    "        '''iteration override'''\n",
    "        return self\n",
    "    \n",
    "    def __str__(self):\n",
    "        '''print override'''\n",
    "        return 'Sequence: {}'.format(self.x)\n",
    "    \n",
    "    #def __len__(self):\n",
    "    #    '''len(Sequence) function'''\n",
    "    #    return len(self.x)\n",
    "    \n",
    "    def __eq__(self,other):\n",
    "        '''== override'''\n",
    "        return self.x == other\n",
    "    \n",
    "    def __getitem__(self,idx):\n",
    "        '''to access the key data'''\n",
    "        return self.x[idx]\n",
    "    \n",
    "    def __setitem__(self,idx,value):\n",
    "        '''write value on index idx'''\n",
    "        self.x[idx] = value\n",
    "        \n",
    "    def __delitem__(self,item):\n",
    "        '''delete an item from a string'''\n",
    "        if isinstance(item, int):\n",
    "            del self.x[item]\n",
    "        elif isinstance(item, slice):\n",
    "            del self.x[item]\n",
    "    \n",
    "    def __iter__(self):\n",
    "        '''iterator override'''\n",
    "        return self.x.__iter__()\n",
    "    \n",
    "    def insert(self, position, value):\n",
    "        '''insert a value in the sequence position'''\n",
    "        return self.x.insert(position,value)\n",
    "    \n",
    "    def append(self,value):\n",
    "        '''append a value to the sequence'''\n",
    "        return self.x.append(value)\n",
    "    \n",
    "    def __copy__(self):\n",
    "        '''do a deepcopy of the sequence'''\n",
    "        return copy.deepcopy(self.x)"
   ]
  },
  {
   "cell_type": "code",
   "execution_count": 9,
   "metadata": {},
   "outputs": [
    {
     "name": "stdout",
     "output_type": "stream",
     "text": [
      "Sequence: [2, 5, 6]\n"
     ]
    }
   ],
   "source": [
    "#constructor check\n",
    "a = [2,5,6]\n",
    "s1 = Sequence(a)\n",
    "print(s1)"
   ]
  },
  {
   "cell_type": "code",
   "execution_count": 10,
   "metadata": {},
   "outputs": [
    {
     "name": "stdout",
     "output_type": "stream",
     "text": [
      "Sequence: [0, 1, 2, 3, 4, 5, 6, 7, 8, 9]\n"
     ]
    },
    {
     "ename": "TypeError",
     "evalue": "object of type 'Sequence' has no len()",
     "output_type": "error",
     "traceback": [
      "\u001b[0;31m---------------------------------------------------------------------------\u001b[0m",
      "\u001b[0;31mTypeError\u001b[0m                                 Traceback (most recent call last)",
      "\u001b[0;32m<ipython-input-10-4ece1654a34e>\u001b[0m in \u001b[0;36m<module>\u001b[0;34m\u001b[0m\n\u001b[1;32m      4\u001b[0m \u001b[0;34m\u001b[0m\u001b[0m\n\u001b[1;32m      5\u001b[0m \u001b[0;31m#length check\u001b[0m\u001b[0;34m\u001b[0m\u001b[0;34m\u001b[0m\u001b[0;34m\u001b[0m\u001b[0m\n\u001b[0;32m----> 6\u001b[0;31m \u001b[0mlen\u001b[0m\u001b[0;34m(\u001b[0m\u001b[0ms2\u001b[0m\u001b[0;34m)\u001b[0m\u001b[0;34m\u001b[0m\u001b[0;34m\u001b[0m\u001b[0m\n\u001b[0m\u001b[1;32m      7\u001b[0m \u001b[0;34m\u001b[0m\u001b[0m\n\u001b[1;32m      8\u001b[0m \u001b[0;31m#== check\u001b[0m\u001b[0;34m\u001b[0m\u001b[0;34m\u001b[0m\u001b[0;34m\u001b[0m\u001b[0m\n",
      "\u001b[0;31mTypeError\u001b[0m: object of type 'Sequence' has no len()"
     ]
    }
   ],
   "source": [
    "#range constructor check\n",
    "s2 = Sequence(range(10))\n",
    "print(s2)\n",
    "\n",
    "#length check\n",
    "len(s2)\n",
    "\n",
    "#== check\n",
    "s3 = Sequence(range(10))\n",
    "print(s1 == s2)\n",
    "print(s2 == s3)"
   ]
  },
  {
   "cell_type": "code",
   "execution_count": 4,
   "metadata": {},
   "outputs": [
    {
     "name": "stdout",
     "output_type": "stream",
     "text": [
      "9\n",
      "6\n"
     ]
    }
   ],
   "source": [
    "#check fast access to index element of the list\n",
    "print(s2[-1]) #last element\n",
    "print(s1[2])"
   ]
  },
  {
   "cell_type": "code",
   "execution_count": 5,
   "metadata": {},
   "outputs": [
    {
     "ename": "NameError",
     "evalue": "name 's3' is not defined",
     "output_type": "error",
     "traceback": [
      "\u001b[0;31m---------------------------------------------------------------------------\u001b[0m",
      "\u001b[0;31mNameError\u001b[0m                                 Traceback (most recent call last)",
      "\u001b[0;32m<ipython-input-5-fed47fcbec63>\u001b[0m in \u001b[0;36m<module>\u001b[0;34m\u001b[0m\n\u001b[1;32m      1\u001b[0m \u001b[0;31m#check index access\u001b[0m\u001b[0;34m\u001b[0m\u001b[0;34m\u001b[0m\u001b[0;34m\u001b[0m\u001b[0m\n\u001b[0;32m----> 2\u001b[0;31m \u001b[0ms3\u001b[0m\u001b[0;34m[\u001b[0m\u001b[0;36m0\u001b[0m\u001b[0;34m]\u001b[0m \u001b[0;34m=\u001b[0m \u001b[0;36m4\u001b[0m\u001b[0;34m\u001b[0m\u001b[0;34m\u001b[0m\u001b[0m\n\u001b[0m\u001b[1;32m      3\u001b[0m \u001b[0mprint\u001b[0m\u001b[0;34m(\u001b[0m\u001b[0ms3\u001b[0m\u001b[0;34m)\u001b[0m\u001b[0;34m\u001b[0m\u001b[0;34m\u001b[0m\u001b[0m\n",
      "\u001b[0;31mNameError\u001b[0m: name 's3' is not defined"
     ]
    }
   ],
   "source": [
    "#check index access\n",
    "s3[0] = 4\n",
    "print(s3)"
   ]
  },
  {
   "cell_type": "code",
   "execution_count": 6,
   "metadata": {},
   "outputs": [
    {
     "ename": "NameError",
     "evalue": "name 's3' is not defined",
     "output_type": "error",
     "traceback": [
      "\u001b[0;31m---------------------------------------------------------------------------\u001b[0m",
      "\u001b[0;31mNameError\u001b[0m                                 Traceback (most recent call last)",
      "\u001b[0;32m<ipython-input-6-46bd5be8f9a9>\u001b[0m in \u001b[0;36m<module>\u001b[0;34m\u001b[0m\n\u001b[1;32m      1\u001b[0m \u001b[0;31m#check del[1:4:2]\u001b[0m\u001b[0;34m\u001b[0m\u001b[0;34m\u001b[0m\u001b[0;34m\u001b[0m\u001b[0m\n\u001b[1;32m      2\u001b[0m \u001b[0;34m\u001b[0m\u001b[0m\n\u001b[0;32m----> 3\u001b[0;31m \u001b[0;32mdel\u001b[0m \u001b[0ms3\u001b[0m\u001b[0;34m[\u001b[0m\u001b[0;36m1\u001b[0m\u001b[0;34m:\u001b[0m\u001b[0;36m4\u001b[0m\u001b[0;34m:\u001b[0m\u001b[0;36m2\u001b[0m\u001b[0;34m]\u001b[0m\u001b[0;34m\u001b[0m\u001b[0;34m\u001b[0m\u001b[0m\n\u001b[0m\u001b[1;32m      4\u001b[0m \u001b[0mprint\u001b[0m\u001b[0;34m(\u001b[0m\u001b[0ms3\u001b[0m\u001b[0;34m)\u001b[0m\u001b[0;34m\u001b[0m\u001b[0;34m\u001b[0m\u001b[0m\n",
      "\u001b[0;31mNameError\u001b[0m: name 's3' is not defined"
     ]
    }
   ],
   "source": [
    "#check del[1:4:2]\n",
    "\n",
    "del s3[1:4:2]\n",
    "print(s3)"
   ]
  },
  {
   "cell_type": "code",
   "execution_count": 195,
   "metadata": {},
   "outputs": [
    {
     "name": "stdout",
     "output_type": "stream",
     "text": [
      "iterator is working and the container value is: 4\n",
      "iterator is working and the container value is: 2\n",
      "iterator is working and the container value is: 4\n",
      "iterator is working and the container value is: 5\n",
      "iterator is working and the container value is: 6\n",
      "iterator is working and the container value is: 7\n",
      "iterator is working and the container value is: 8\n",
      "iterator is working and the container value is: 9\n"
     ]
    }
   ],
   "source": [
    "#check iterator\n",
    "\n",
    "for x in s3:\n",
    "    print('iterator is working and the container value is:', x)"
   ]
  },
  {
   "cell_type": "code",
   "execution_count": 196,
   "metadata": {},
   "outputs": [
    {
     "name": "stdout",
     "output_type": "stream",
     "text": [
      "Sequence: [2, 5, 6]\n",
      "Sequence: [2, 5, 4, 6]\n",
      "Sequence: [2, 5, 4, 6, 7]\n"
     ]
    }
   ],
   "source": [
    "#insert check\n",
    "\n",
    "print(s1)\n",
    "s1.insert(2,4)\n",
    "print(s1)\n",
    "s1.append(7)\n",
    "print(s1)"
   ]
  },
  {
   "cell_type": "code",
   "execution_count": 199,
   "metadata": {},
   "outputs": [
    {
     "name": "stdout",
     "output_type": "stream",
     "text": [
      "<class 'list'>\n",
      "Sequence: [2, 5, 4, 6, 7]\n",
      "Sequence: [2, 5, 4, 6, 7]\n",
      "[2, 5, 4, 6, 7, 8]\n"
     ]
    }
   ],
   "source": [
    "#deepcopy check\n",
    "\n",
    "s4 = copy.copy(s1)\n",
    "print(type(s4))\n",
    "print(s1)\n",
    "s4.append(8)\n",
    "print(s1)\n",
    "print(s4)"
   ]
  },
  {
   "cell_type": "code",
   "execution_count": null,
   "metadata": {},
   "outputs": [],
   "source": [
    "help(Sequence)"
   ]
  },
  {
   "cell_type": "code",
   "execution_count": null,
   "metadata": {},
   "outputs": [],
   "source": []
  }
 ],
 "metadata": {
  "kernelspec": {
   "display_name": "Python 3",
   "language": "python",
   "name": "python3"
  },
  "language_info": {
   "codemirror_mode": {
    "name": "ipython",
    "version": 3
   },
   "file_extension": ".py",
   "mimetype": "text/x-python",
   "name": "python",
   "nbconvert_exporter": "python",
   "pygments_lexer": "ipython3",
   "version": "3.7.1"
  }
 },
 "nbformat": 4,
 "nbformat_minor": 2
}
