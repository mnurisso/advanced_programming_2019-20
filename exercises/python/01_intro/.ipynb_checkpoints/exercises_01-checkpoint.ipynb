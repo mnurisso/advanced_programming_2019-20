{
 "cells": [
  {
   "cell_type": "markdown",
   "metadata": {},
   "source": [
    "# Exercises 01"
   ]
  },
  {
   "cell_type": "markdown",
   "metadata": {},
   "source": [
    "## Function 1:\n",
    "\n",
    "returns `True` if `string_var` is palindrome, `False` otherwise"
   ]
  },
  {
   "cell_type": "code",
   "execution_count": 42,
   "metadata": {},
   "outputs": [],
   "source": [
    "def reverse(string_var): \n",
    "    '''\n",
    "    returns the reverse of the original string\n",
    "    '''\n",
    "    rev = string_var[::-1] \n",
    "    print('reversed:', rev)\n",
    "    return rev"
   ]
  },
  {
   "cell_type": "code",
   "execution_count": 43,
   "metadata": {},
   "outputs": [],
   "source": [
    "def is_palindrome(string_var):     \n",
    "    '''\n",
    "    returns True if string_var is palindrome, False otherwise\n",
    "    '''\n",
    "    #reverse the original string\n",
    "    rev = reverse(string_var)\n",
    "    #check it the resersed one is the same\n",
    "    if (rev == string_var):\n",
    "        return True\n",
    "    return False "
   ]
  },
  {
   "cell_type": "code",
   "execution_count": 44,
   "metadata": {},
   "outputs": [
    {
     "name": "stdout",
     "output_type": "stream",
     "text": [
      "original: neverafoottoofareven\n",
      "reversed: neverafoottoofareven\n"
     ]
    },
    {
     "data": {
      "text/plain": [
       "True"
      ]
     },
     "execution_count": 44,
     "metadata": {},
     "output_type": "execute_result"
    }
   ],
   "source": [
    "a = 'neverafoottoofareven'\n",
    "print('original:', a)\n",
    "is_palindrome(a)"
   ]
  },
  {
   "cell_type": "markdown",
   "metadata": {},
   "source": [
    "## Function 2"
   ]
  },
  {
   "cell_type": "code",
   "execution_count": 49,
   "metadata": {},
   "outputs": [],
   "source": [
    "def histogram_letters(string_var):     \n",
    "    '''\n",
    "    count how many times a letter is present in the string_var\n",
    "    and returns a dict\n",
    "    '''\n",
    "    #create the empty dictionary\n",
    "    freq = {}\n",
    "    \n",
    "    #loop over the string, create new key if necessary or update a previous one\n",
    "    for x in string_var:\n",
    "        if (x in freq):\n",
    "            freq[x] += 1\n",
    "        else:\n",
    "            freq[x] = 1\n",
    "            \n",
    "    #print the dictionary\n",
    "    print(freq)"
   ]
  },
  {
   "cell_type": "code",
   "execution_count": 51,
   "metadata": {},
   "outputs": [
    {
     "name": "stdout",
     "output_type": "stream",
     "text": [
      "{'n': 2, 'e': 4, 'v': 2, 'r': 2, 'a': 2, 'f': 2, 'o': 4, 't': 2}\n"
     ]
    }
   ],
   "source": [
    "histogram_letters(a) #using string from the previous exercise"
   ]
  },
  {
   "cell_type": "markdown",
   "metadata": {},
   "source": [
    "## Function 3"
   ]
  },
  {
   "cell_type": "code",
   "execution_count": 70,
   "metadata": {},
   "outputs": [],
   "source": [
    "def get_most_frequent(list_var):\n",
    "    '''\n",
    "    returns a tuple with the most frequent object in the list with the \n",
    "    corresponing number\n",
    "    '''\n",
    "    #create an empty dictionary\n",
    "    freq = {}\n",
    "    \n",
    "    #loop over the list, create new key if necessary or update a previous one\n",
    "    for x in list_var:\n",
    "        if (x in freq):\n",
    "            freq[x] += 1\n",
    "        else:\n",
    "            freq[x] = 1\n",
    "            \n",
    "    #create a tuple with the most frequent object\n",
    "    key = 0\n",
    "    value = 0\n",
    "    \n",
    "    for k,v in freq.items():\n",
    "        if (v > value):\n",
    "            value = v\n",
    "            key = k\n",
    "            \n",
    "    freq_t = (key, value)\n",
    "    \n",
    "    #print the tuple\n",
    "    print(freq_t)"
   ]
  },
  {
   "cell_type": "code",
   "execution_count": 71,
   "metadata": {},
   "outputs": [
    {
     "name": "stdout",
     "output_type": "stream",
     "text": [
      "(2, 4)\n"
     ]
    }
   ],
   "source": [
    "b = [1,2,3,7,2,6,8,3,1,67,2,5,9,3,21,4,6,8,4,2,5,8,90]\n",
    "get_most_frequent(b)"
   ]
  },
  {
   "cell_type": "markdown",
   "metadata": {},
   "source": [
    "## Function 4"
   ]
  },
  {
   "cell_type": "code",
   "execution_count": 66,
   "metadata": {},
   "outputs": [],
   "source": [
    "def which_duplicates(list_var):\n",
    "    '''\n",
    "    return a dict with containing the repeted object and the number of repetitions\n",
    "    '''\n",
    "    #create the empty dictionary\n",
    "    rep = {}\n",
    "    \n",
    "    #loop over the list, create a new key or update the previous one\n",
    "    for x in list_var:\n",
    "        if(x in rep):\n",
    "            rep[x] += 1\n",
    "        else:\n",
    "            rep[x] = 1\n",
    "            \n",
    "    #delete the non repeted terms\n",
    "    '''\n",
    "    note that I cannot remove items from a dictionary during a while \n",
    "    so I will create a copy without repetitions\n",
    "    '''\n",
    "    rep_fin = {k:v for k,v in rep.items() if v!=1}\n",
    "                \n",
    "    #print the dictionary\n",
    "    print(rep_fin)"
   ]
  },
  {
   "cell_type": "code",
   "execution_count": 72,
   "metadata": {},
   "outputs": [
    {
     "name": "stdout",
     "output_type": "stream",
     "text": [
      "{1: 2, 2: 4, 3: 3, 6: 2, 8: 3, 5: 2, 4: 2}\n"
     ]
    }
   ],
   "source": [
    "which_duplicates(b) #list from the previous exercise"
   ]
  },
  {
   "cell_type": "markdown",
   "metadata": {},
   "source": [
    "## Function 5"
   ]
  },
  {
   "cell_type": "code",
   "execution_count": 75,
   "metadata": {},
   "outputs": [],
   "source": [
    "def compute_factorial(int_val):\n",
    "    '''\n",
    "    returns factorial of a number\n",
    "    '''\n",
    "    if (int_val == 1):\n",
    "        return 1\n",
    "    else:\n",
    "        return(int_val*compute_factorial(int_val-1))"
   ]
  },
  {
   "cell_type": "code",
   "execution_count": 76,
   "metadata": {},
   "outputs": [
    {
     "data": {
      "text/plain": [
       "24"
      ]
     },
     "execution_count": 76,
     "metadata": {},
     "output_type": "execute_result"
    }
   ],
   "source": [
    "compute_factorial(4)"
   ]
  },
  {
   "cell_type": "markdown",
   "metadata": {},
   "source": [
    "## Function 6"
   ]
  },
  {
   "cell_type": "code",
   "execution_count": 89,
   "metadata": {},
   "outputs": [],
   "source": [
    "import math\n",
    "\n",
    "def is_prime(int_val):\n",
    "    '''\n",
    "    returns True if int_val is prime, False otherwise\n",
    "    '''\n",
    "    for x in range(2,int(int_val/2)): #work but unefficiently\n",
    "        if (int_val%x == 0):\n",
    "            return False\n",
    "    return True"
   ]
  },
  {
   "cell_type": "code",
   "execution_count": 96,
   "metadata": {},
   "outputs": [
    {
     "name": "stdout",
     "output_type": "stream",
     "text": [
      "False\n",
      "True\n"
     ]
    }
   ],
   "source": [
    "print(is_prime(8))\n",
    "print(is_prime(5))"
   ]
  },
  {
   "cell_type": "code",
   "execution_count": null,
   "metadata": {},
   "outputs": [],
   "source": []
  }
 ],
 "metadata": {
  "kernelspec": {
   "display_name": "Python 3",
   "language": "python",
   "name": "python3"
  },
  "language_info": {
   "codemirror_mode": {
    "name": "ipython",
    "version": 3
   },
   "file_extension": ".py",
   "mimetype": "text/x-python",
   "name": "python",
   "nbconvert_exporter": "python",
   "pygments_lexer": "ipython3",
   "version": "3.7.1"
  }
 },
 "nbformat": 4,
 "nbformat_minor": 2
}
