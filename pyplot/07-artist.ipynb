{
 "cells": [
  {
   "cell_type": "markdown",
   "metadata": {},
   "source": [
    "## Artist\n",
    "\n",
    "There are two types of `Artists`:\n",
    "- **primitives:** graphical objects like `Rectangle`, `Text`\n",
    "- **containers:** places to put them: `Axis`, `Axes`, `Figure`\n",
    "\n",
    "Create a `Figure` instance, use it to create one or more `Axes` or `Subplot`, the use `Axes` methods to create the primitives."
   ]
  },
  {
   "cell_type": "markdown",
   "metadata": {},
   "source": [
    "`Subplot` is only a special case of `Axes` that create a regular rows by columns grid. \n",
    "\n",
    "To create an `Axes` at an arbitrary location use `add_axes()`"
   ]
  },
  {
   "cell_type": "code",
   "execution_count": 22,
   "metadata": {},
   "outputs": [
    {
     "data": {
      "image/png": "[encoded data removed]",
      "text/plain": [
       "<Figure size 432x288 with 1 Axes>"
      ]
     },
     "metadata": {
      "needs_background": "light"
     },
     "output_type": "display_data"
    }
   ],
   "source": [
    "import numpy as np\n",
    "import matplotlib.pyplot as plt\n",
    "\n",
    "fig = plt.figure()\n",
    "ax = fig.add_axes([0.15, 0.1, 0.7, 0.3])\n",
    "\n",
    "t = np.arange(0.0, 1.0, 0.01)\n",
    "s = np.sin(2*np.pi*t)\n",
    "line, = ax.plot(t, s, color='blue', lw=2)"
   ]
  },
  {
   "cell_type": "code",
   "execution_count": 25,
   "metadata": {},
   "outputs": [
    {
     "data": {
      "image/png": "[encoded data removed]",
      "text/plain": [
       "<Figure size 432x288 with 2 Axes>"
      ]
     },
     "metadata": {
      "needs_background": "light"
     },
     "output_type": "display_data"
    }
   ],
   "source": [
    "import numpy as np\n",
    "import matplotlib.pyplot as plt\n",
    "\n",
    "fig = plt.figure()\n",
    "fig.subplots_adjust(top=0.8)\n",
    "\n",
    "# Added through subplot\n",
    "ax1 = fig.add_subplot(211)\n",
    "ax1.set_ylabel('volts')\n",
    "ax1.set_title('a sine wave')\n",
    "\n",
    "t = np.arange(0.0, 1.0, 0.01)\n",
    "s = np.sin(2*np.pi*t)\n",
    "line, = ax1.plot(t, s, color='blue', lw=2)\n",
    "\n",
    "# Fixing random state for reproducibility\n",
    "np.random.seed(19680801)\n",
    "\n",
    "# Added specifying the dimension\n",
    "ax2 = fig.add_axes([0.15, 0.1, 0.7, 0.3])\n",
    "n, bins, patches = ax2.hist(np.random.randn(1000), 50,\n",
    "                            facecolor='yellow', edgecolor='yellow')\n",
    "ax2.set_xlabel('time (s)')\n",
    "\n",
    "plt.show()"
   ]
  },
  {
   "cell_type": "markdown",
   "metadata": {},
   "source": [
    "## Customize objects\n",
    "\n",
    "Every element in the figure is an `Artist`, with a list of properties to configure. Every `Figure` and `Axes` for example contains a `Rectangle` of the size, that can be used to sed background color and transparency."
   ]
  },
  {
   "cell_type": "markdown",
   "metadata": {},
   "source": [
    "### Figure container\n",
    "\n",
    "`matplotlib.figure.Figure` contains everything in the figure. The background is a `Rectangle`, while `Subplots` and `Axes` are appended to `Figure.axes`\n",
    "\n",
    "You should add the with `add_subplot()` and `add_axes`, using instead `delaxes()` to delete them.\n",
    "\n",
    "In specific case it can be useful to use them as a list in which you can iterate \n",
    "\n",
    "```python\n",
    "for ax in fig.axes:\n",
    "    ax.grid(True)\n",
    "```"
   ]
  },
  {
   "cell_type": "markdown",
   "metadata": {},
   "source": [
    "### Figure attribute\n",
    "\n",
    "- **axes:** axes and subplots\n",
    "- **patch:** rectangle box\n",
    "- **images**\n",
    "- **legends:** different from `Axes.legends`\n",
    "- **lines**\n",
    "- **patches**\n",
    "- **texts**"
   ]
  },
  {
   "cell_type": "markdown",
   "metadata": {},
   "source": [
    "## Axes container\n",
    "\n",
    "`matplotlib.axes.Axes` contains the majority of the `Artists` used.\n",
    "\n",
    "By calling a plot method like `plot()` the method will create a `matplotlib.lines.Line2D()` instance and adding the line to the `Axes.lines` container."
   ]
  },
  {
   "cell_type": "code",
   "execution_count": 37,
   "metadata": {},
   "outputs": [],
   "source": [
    "x, y = np.random.rand(2, 100)\n",
    "\n",
    "line, = ax.plot(x, y, '-', color='blue', linewidth=2)"
   ]
  },
  {
   "cell_type": "markdown",
   "metadata": {},
   "source": [
    "Methods creating patches, like `bar()` will do the same with the `Axes.patches` list."
   ]
  },
  {
   "cell_type": "code",
   "execution_count": 38,
   "metadata": {},
   "outputs": [
    {
     "name": "stdout",
     "output_type": "stream",
     "text": [
      "50\n"
     ]
    }
   ],
   "source": [
    "n, bins, rectangles = ax.hist(np.random.randn(1000), 50, facecolor='yellow')\n",
    "\n",
    "print(len(ax.patches))"
   ]
  },
  {
   "cell_type": "markdown",
   "metadata": {},
   "source": [
    "You should always create these objects using `add_line()` and `add_patch()`"
   ]
  },
  {
   "cell_type": "markdown",
   "metadata": {},
   "source": [
    "### Helper methods"
   ]
  },
  {
   "cell_type": "markdown",
   "metadata": {},
   "source": [
    "<img src=\"images/helper_methods.png\">"
   ]
  },
  {
   "cell_type": "markdown",
   "metadata": {},
   "source": [
    "### Axes attribute\n",
    "\n",
    "<img src=\"images/axes_attributes.png\">"
   ]
  },
  {
   "cell_type": "code",
   "execution_count": null,
   "metadata": {},
   "outputs": [],
   "source": []
  }
 ],
 "metadata": {
  "kernelspec": {
   "display_name": "Python 3",
   "language": "python",
   "name": "python3"
  },
  "language_info": {
   "codemirror_mode": {
    "name": "ipython",
    "version": 3
   },
   "file_extension": ".py",
   "mimetype": "text/x-python",
   "name": "python",
   "nbconvert_exporter": "python",
   "pygments_lexer": "ipython3",
   "version": "3.7.6"
  }
 },
 "nbformat": 4,
 "nbformat_minor": 4
}
