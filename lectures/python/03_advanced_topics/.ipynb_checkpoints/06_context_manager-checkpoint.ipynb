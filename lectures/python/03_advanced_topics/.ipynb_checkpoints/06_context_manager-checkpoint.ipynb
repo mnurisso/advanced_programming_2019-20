{
 "cells": [
  {
   "cell_type": "markdown",
   "metadata": {},
   "source": [
    "## Context manager"
   ]
  },
  {
   "cell_type": "code",
   "execution_count": 1,
   "metadata": {},
   "outputs": [],
   "source": [
    "with open(\"new_file.txt\",'w') as f:\n",
    "    for i in range(10):\n",
    "        print(i,file=f)\n",
    "        #f.write(str(i)+'\\n')\n"
   ]
  },
  {
   "cell_type": "code",
   "execution_count": 2,
   "metadata": {},
   "outputs": [
    {
     "data": {
      "text/plain": [
       "True"
      ]
     },
     "execution_count": 2,
     "metadata": {},
     "output_type": "execute_result"
    }
   ],
   "source": [
    "f.closed"
   ]
  },
  {
   "cell_type": "code",
   "execution_count": 3,
   "metadata": {},
   "outputs": [
    {
     "data": {
      "text/plain": [
       "9"
      ]
     },
     "execution_count": 3,
     "metadata": {},
     "output_type": "execute_result"
    }
   ],
   "source": [
    "i #is not out of scope"
   ]
  },
  {
   "cell_type": "code",
   "execution_count": 4,
   "metadata": {},
   "outputs": [
    {
     "data": {
      "text/plain": [
       "[0, 1, 2, 3, 4, 5, 6, 7, 8, 9]"
      ]
     },
     "execution_count": 4,
     "metadata": {},
     "output_type": "execute_result"
    }
   ],
   "source": [
    "a=[] #there is no need to define a outside the context manager\n",
    "with open(\"new_file.txt\",'r') as f:\n",
    "    for i in f:\n",
    "        a.append(int(i))            \n",
    "a"
   ]
  },
  {
   "cell_type": "code",
   "execution_count": null,
   "metadata": {},
   "outputs": [],
   "source": [
    "with open('new_file.txt') as f:\n",
    "    a = [int(i) for i in f]\n",
    "a"
   ]
  },
  {
   "cell_type": "code",
   "execution_count": null,
   "metadata": {},
   "outputs": [],
   "source": [
    "# adapted from Fluent Python\n",
    "class LookingGlass:\n",
    "    def __enter__(self): # no other arguments\n",
    "        print(\"__enter__\")\n",
    "        import sys\n",
    "        self.original_write = sys.stdout.write #variable not defined in __init__\n",
    "        sys.stdout.write = self.reverse_write\n",
    "    \n",
    "    def reverse_write(self,text):\n",
    "        self.original_write(text[::-1])\n",
    "    \n",
    "    def __exit__(self, exc_type, exc_value, traceback):\n",
    "        import sys\n",
    "        sys.stdout.write = self.original_write # restore original\n",
    "        # handling of exception, if any\n",
    "        print(\"__exit__\")\n",
    "        return True # everything has been managed\n",
    "    \n",
    "\n",
    "with LookingGlass() as wtf:\n",
    "    print(\"What is going on?\")\n",
    "    print(\"I cannot read this\")\n",
    "        \n",
    "print(\"back to work\")"
   ]
  }
 ],
 "metadata": {
  "kernelspec": {
   "display_name": "Python 3",
   "language": "python",
   "name": "python3"
  },
  "language_info": {
   "codemirror_mode": {
    "name": "ipython",
    "version": 3
   },
   "file_extension": ".py",
   "mimetype": "text/x-python",
   "name": "python",
   "nbconvert_exporter": "python",
   "pygments_lexer": "ipython3",
   "version": "3.7.1"
  }
 },
 "nbformat": 4,
 "nbformat_minor": 2
}
